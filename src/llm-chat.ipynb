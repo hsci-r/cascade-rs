{
 "cells": [
  {
   "cell_type": "code",
   "execution_count": 6,
   "id": "da5f9824-a6e5-4320-8680-0429cc53d20e",
   "metadata": {},
   "outputs": [
    {
     "name": "stdout",
     "output_type": "stream",
     "text": [
      "⏳ Waiting for LLM API to be ready...\n",
      "✅ LLM is ready!\n"
     ]
    }
   ],
   "source": [
    "from openai import OpenAI\n",
    "import json\n",
    "import ast\n",
    "from pathlib import Path\n",
    "import traceback\n",
    "from tqdm.auto import tqdm\n",
    "import httpx\n",
    "import time\n",
    "\n",
    "llm_url=\"http://localhost:8000/v1/\"\n",
    "model=\"Qwen/Qwen2.5-3B-Instruct\"\n",
    "\n",
    "def wait_for_vllm_ready(timeout=300):\n",
    "    print(\"⏳ Waiting for LLM API to be ready...\")\n",
    "    start_time = time.time()\n",
    "    while True:\n",
    "        try:\n",
    "            response = httpx.get(llm_url+\"models\", timeout=2)\n",
    "            if response.status_code == 200:\n",
    "                print(\"✅ LLM is ready!\")\n",
    "                break\n",
    "        except Exception as e:\n",
    "            if time.time() - start_time > timeout:\n",
    "                raise TimeoutError(\"❌ Timed out waiting for LLM.\") from e\n",
    "            time.sleep(5)\n",
    "\n",
    "wait_for_vllm_ready()\n",
    "\n",
    "# initial LLM\n",
    "client = OpenAI(\n",
    "    base_url='http://localhost:8000/v1',\n",
    "    api_key='EMPTY', \n",
    ")"
   ]
  },
  {
   "cell_type": "code",
   "execution_count": 9,
   "id": "07bc293c-fa09-4759-a836-1d77af38c151",
   "metadata": {},
   "outputs": [
    {
     "data": {
      "application/vnd.jupyter.widget-view+json": {
       "model_id": "c8f0f576b038430aae5b93a17703bdab",
       "version_major": 2,
       "version_minor": 0
      },
      "text/plain": [
       "VBox(children=(Text(value='', continuous_update=False), Output()))"
      ]
     },
     "execution_count": 9,
     "metadata": {},
     "output_type": "execute_result"
    }
   ],
   "source": [
    "from ipywidgets import widgets\n",
    "conversation = [dict(role=\"system\", content=\"You are a helpful assistant\")]\n",
    "in_text = widgets.Text()\n",
    "in_text.continuous_update = False\n",
    "output = widgets.Output()\n",
    "\n",
    "def text_eventhandler(*args):\n",
    "    # Needed bc when we \"reset\" the text input\n",
    "    # it fires instantly another event since\n",
    "    # we \"changed\" it's value to \"\"\n",
    "    if args[0][\"new\"] == \"\":\n",
    "        return\n",
    "\n",
    "    question = args[0][\"new\"]\n",
    "    with output:\n",
    "        print(f\"User: {question}\")\n",
    "\n",
    "    conversation.append(dict(role=\"user\",content=question))\n",
    "\n",
    "    # Reset text field\n",
    "    args[0][\"owner\"].value = \"\"\n",
    "    response = client.chat.completions.create(messages=conversation, model=model).choices[0].message.content\n",
    "    with output:\n",
    "        print(f\"AI: {response}\")\n",
    "    conversation.append(dict(role=\"system\", content=response))\n",
    "in_text.observe(text_eventhandler, \"value\")\n",
    "widgets.VBox([in_text, output])"
   ]
  },
  {
   "cell_type": "code",
   "execution_count": null,
   "id": "a056c164-167b-4184-93a0-beb23588b66d",
   "metadata": {},
   "outputs": [],
   "source": []
  }
 ],
 "metadata": {
  "kernelspec": {
   "display_name": "Python 3 (ipykernel)",
   "language": "python",
   "name": "python3"
  },
  "language_info": {
   "codemirror_mode": {
    "name": "ipython",
    "version": 3
   },
   "file_extension": ".py",
   "mimetype": "text/x-python",
   "name": "python",
   "nbconvert_exporter": "python",
   "pygments_lexer": "ipython3",
   "version": "3.12.10"
  }
 },
 "nbformat": 4,
 "nbformat_minor": 5
}
